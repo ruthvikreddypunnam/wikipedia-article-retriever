{
 "cells": [
  {
   "cell_type": "code",
   "execution_count": 1,
   "metadata": {
    "scrolled": true
   },
   "outputs": [],
   "source": [
    "import pandas as pd\n",
    "import math\n",
    "import numpy as np"
   ]
  },
  {
   "cell_type": "code",
   "execution_count": 2,
   "metadata": {},
   "outputs": [],
   "source": [
    "data=pd.read_csv('people_wiki.csv')"
   ]
  },
  {
   "cell_type": "code",
   "execution_count": 3,
   "metadata": {
    "scrolled": true
   },
   "outputs": [
    {
     "data": {
      "text/html": [
       "<div>\n",
       "<style scoped>\n",
       "    .dataframe tbody tr th:only-of-type {\n",
       "        vertical-align: middle;\n",
       "    }\n",
       "\n",
       "    .dataframe tbody tr th {\n",
       "        vertical-align: top;\n",
       "    }\n",
       "\n",
       "    .dataframe thead th {\n",
       "        text-align: right;\n",
       "    }\n",
       "</style>\n",
       "<table border=\"1\" class=\"dataframe\">\n",
       "  <thead>\n",
       "    <tr style=\"text-align: right;\">\n",
       "      <th></th>\n",
       "      <th>URI</th>\n",
       "      <th>name</th>\n",
       "      <th>text</th>\n",
       "    </tr>\n",
       "  </thead>\n",
       "  <tbody>\n",
       "    <tr>\n",
       "      <th>0</th>\n",
       "      <td>&lt;http://dbpedia.org/resource/Digby_Morrell&gt;</td>\n",
       "      <td>Digby Morrell</td>\n",
       "      <td>digby morrell born 10 october 1979 is a former...</td>\n",
       "    </tr>\n",
       "    <tr>\n",
       "      <th>1</th>\n",
       "      <td>&lt;http://dbpedia.org/resource/Alfred_J._Lewy&gt;</td>\n",
       "      <td>Alfred J. Lewy</td>\n",
       "      <td>alfred j lewy aka sandy lewy graduated from un...</td>\n",
       "    </tr>\n",
       "    <tr>\n",
       "      <th>2</th>\n",
       "      <td>&lt;http://dbpedia.org/resource/Harpdog_Brown&gt;</td>\n",
       "      <td>Harpdog Brown</td>\n",
       "      <td>harpdog brown is a singer and harmonica player...</td>\n",
       "    </tr>\n",
       "    <tr>\n",
       "      <th>3</th>\n",
       "      <td>&lt;http://dbpedia.org/resource/Franz_Rottensteiner&gt;</td>\n",
       "      <td>Franz Rottensteiner</td>\n",
       "      <td>franz rottensteiner born in waidmannsfeld lowe...</td>\n",
       "    </tr>\n",
       "    <tr>\n",
       "      <th>4</th>\n",
       "      <td>&lt;http://dbpedia.org/resource/G-Enka&gt;</td>\n",
       "      <td>G-Enka</td>\n",
       "      <td>henry krvits born 30 december 1974 in tallinn ...</td>\n",
       "    </tr>\n",
       "  </tbody>\n",
       "</table>\n",
       "</div>"
      ],
      "text/plain": [
       "                                                 URI                 name  \\\n",
       "0        <http://dbpedia.org/resource/Digby_Morrell>        Digby Morrell   \n",
       "1       <http://dbpedia.org/resource/Alfred_J._Lewy>       Alfred J. Lewy   \n",
       "2        <http://dbpedia.org/resource/Harpdog_Brown>        Harpdog Brown   \n",
       "3  <http://dbpedia.org/resource/Franz_Rottensteiner>  Franz Rottensteiner   \n",
       "4               <http://dbpedia.org/resource/G-Enka>               G-Enka   \n",
       "\n",
       "                                                text  \n",
       "0  digby morrell born 10 october 1979 is a former...  \n",
       "1  alfred j lewy aka sandy lewy graduated from un...  \n",
       "2  harpdog brown is a singer and harmonica player...  \n",
       "3  franz rottensteiner born in waidmannsfeld lowe...  \n",
       "4  henry krvits born 30 december 1974 in tallinn ...  "
      ]
     },
     "execution_count": 3,
     "metadata": {},
     "output_type": "execute_result"
    }
   ],
   "source": [
    "data.head()"
   ]
  },
  {
   "cell_type": "code",
   "execution_count": 4,
   "metadata": {},
   "outputs": [
    {
     "name": "stdout",
     "output_type": "stream",
     "text": [
      "<class 'pandas.core.frame.DataFrame'>\n",
      "RangeIndex: 42786 entries, 0 to 42785\n",
      "Data columns (total 3 columns):\n",
      " #   Column  Non-Null Count  Dtype \n",
      "---  ------  --------------  ----- \n",
      " 0   URI     42786 non-null  object\n",
      " 1   name    42786 non-null  object\n",
      " 2   text    42786 non-null  object\n",
      "dtypes: object(3)\n",
      "memory usage: 501.5+ KB\n"
     ]
    }
   ],
   "source": [
    "data.info()"
   ]
  },
  {
   "cell_type": "markdown",
   "metadata": {},
   "source": [
    "## TF-IDF"
   ]
  },
  {
   "cell_type": "code",
   "execution_count": 5,
   "metadata": {},
   "outputs": [],
   "source": [
    "corpus={}"
   ]
  },
  {
   "cell_type": "code",
   "execution_count": 6,
   "metadata": {},
   "outputs": [],
   "source": [
    "def count_words(df):\n",
    "    text = list(df.split(' '))\n",
    "    d={}\n",
    "    global corpus\n",
    "    for i in text:\n",
    "        if i in d.keys():\n",
    "            d[i]+=1.0\n",
    "        else:\n",
    "            d[i]=1.0\n",
    "            if i in corpus.keys():\n",
    "                corpus[i]+=1\n",
    "            else:\n",
    "                corpus[i]=1\n",
    "    return d"
   ]
  },
  {
   "cell_type": "code",
   "execution_count": 7,
   "metadata": {},
   "outputs": [],
   "source": [
    "data['count_words']=data['text'].apply(count_words)"
   ]
  },
  {
   "cell_type": "code",
   "execution_count": 8,
   "metadata": {},
   "outputs": [
    {
     "data": {
      "text/html": [
       "<div>\n",
       "<style scoped>\n",
       "    .dataframe tbody tr th:only-of-type {\n",
       "        vertical-align: middle;\n",
       "    }\n",
       "\n",
       "    .dataframe tbody tr th {\n",
       "        vertical-align: top;\n",
       "    }\n",
       "\n",
       "    .dataframe thead th {\n",
       "        text-align: right;\n",
       "    }\n",
       "</style>\n",
       "<table border=\"1\" class=\"dataframe\">\n",
       "  <thead>\n",
       "    <tr style=\"text-align: right;\">\n",
       "      <th></th>\n",
       "      <th>URI</th>\n",
       "      <th>name</th>\n",
       "      <th>text</th>\n",
       "      <th>count_words</th>\n",
       "    </tr>\n",
       "  </thead>\n",
       "  <tbody>\n",
       "    <tr>\n",
       "      <th>0</th>\n",
       "      <td>&lt;http://dbpedia.org/resource/Digby_Morrell&gt;</td>\n",
       "      <td>Digby Morrell</td>\n",
       "      <td>digby morrell born 10 october 1979 is a former...</td>\n",
       "      <td>{'digby': 1.0, 'morrell': 5.0, 'born': 1.0, '1...</td>\n",
       "    </tr>\n",
       "    <tr>\n",
       "      <th>1</th>\n",
       "      <td>&lt;http://dbpedia.org/resource/Alfred_J._Lewy&gt;</td>\n",
       "      <td>Alfred J. Lewy</td>\n",
       "      <td>alfred j lewy aka sandy lewy graduated from un...</td>\n",
       "      <td>{'alfred': 1.0, 'j': 1.0, 'lewy': 3.0, 'aka': ...</td>\n",
       "    </tr>\n",
       "    <tr>\n",
       "      <th>2</th>\n",
       "      <td>&lt;http://dbpedia.org/resource/Harpdog_Brown&gt;</td>\n",
       "      <td>Harpdog Brown</td>\n",
       "      <td>harpdog brown is a singer and harmonica player...</td>\n",
       "      <td>{'harpdog': 2.0, 'brown': 2.0, 'is': 7.0, 'a':...</td>\n",
       "    </tr>\n",
       "    <tr>\n",
       "      <th>3</th>\n",
       "      <td>&lt;http://dbpedia.org/resource/Franz_Rottensteiner&gt;</td>\n",
       "      <td>Franz Rottensteiner</td>\n",
       "      <td>franz rottensteiner born in waidmannsfeld lowe...</td>\n",
       "      <td>{'franz': 1.0, 'rottensteiner': 3.0, 'born': 1...</td>\n",
       "    </tr>\n",
       "    <tr>\n",
       "      <th>4</th>\n",
       "      <td>&lt;http://dbpedia.org/resource/G-Enka&gt;</td>\n",
       "      <td>G-Enka</td>\n",
       "      <td>henry krvits born 30 december 1974 in tallinn ...</td>\n",
       "      <td>{'henry': 1.0, 'krvits': 1.0, 'born': 1.0, '30...</td>\n",
       "    </tr>\n",
       "  </tbody>\n",
       "</table>\n",
       "</div>"
      ],
      "text/plain": [
       "                                                 URI                 name  \\\n",
       "0        <http://dbpedia.org/resource/Digby_Morrell>        Digby Morrell   \n",
       "1       <http://dbpedia.org/resource/Alfred_J._Lewy>       Alfred J. Lewy   \n",
       "2        <http://dbpedia.org/resource/Harpdog_Brown>        Harpdog Brown   \n",
       "3  <http://dbpedia.org/resource/Franz_Rottensteiner>  Franz Rottensteiner   \n",
       "4               <http://dbpedia.org/resource/G-Enka>               G-Enka   \n",
       "\n",
       "                                                text  \\\n",
       "0  digby morrell born 10 october 1979 is a former...   \n",
       "1  alfred j lewy aka sandy lewy graduated from un...   \n",
       "2  harpdog brown is a singer and harmonica player...   \n",
       "3  franz rottensteiner born in waidmannsfeld lowe...   \n",
       "4  henry krvits born 30 december 1974 in tallinn ...   \n",
       "\n",
       "                                         count_words  \n",
       "0  {'digby': 1.0, 'morrell': 5.0, 'born': 1.0, '1...  \n",
       "1  {'alfred': 1.0, 'j': 1.0, 'lewy': 3.0, 'aka': ...  \n",
       "2  {'harpdog': 2.0, 'brown': 2.0, 'is': 7.0, 'a':...  \n",
       "3  {'franz': 1.0, 'rottensteiner': 3.0, 'born': 1...  \n",
       "4  {'henry': 1.0, 'krvits': 1.0, 'born': 1.0, '30...  "
      ]
     },
     "execution_count": 8,
     "metadata": {},
     "output_type": "execute_result"
    }
   ],
   "source": [
    "data.head()"
   ]
  },
  {
   "cell_type": "code",
   "execution_count": 9,
   "metadata": {},
   "outputs": [],
   "source": [
    "def calculateTF(word_count,words):\n",
    "    #l=len(words)\n",
    "    d={}\n",
    "    for word,count in word_count.items():\n",
    "        d[word]=count#/float(l);\n",
    "    return d;"
   ]
  },
  {
   "cell_type": "code",
   "execution_count": 10,
   "metadata": {},
   "outputs": [],
   "source": [
    "def calculateIDF(text):\n",
    "    global corpus\n",
    "    n=len(data)\n",
    "    d={}\n",
    "    for word in text.keys():\n",
    "        d[word]=math.log(n/(float(corpus[word])+1))\n",
    "    return d"
   ]
  },
  {
   "cell_type": "code",
   "execution_count": 11,
   "metadata": {},
   "outputs": [],
   "source": [
    "def tfidf(word_count,text):\n",
    "    d1=calculateTF(word_count,list(text.split(' ')))\n",
    "    d2=calculateIDF(word_count)\n",
    "    d3={}\n",
    "    for i in d1.keys():\n",
    "        d3[i]=d1[i]*d2[i]\n",
    "    return d3"
   ]
  },
  {
   "cell_type": "code",
   "execution_count": 12,
   "metadata": {},
   "outputs": [],
   "source": [
    "data['tfidf']=data.apply(lambda row:tfidf(row['count_words'],row['text']),axis=1)"
   ]
  },
  {
   "cell_type": "code",
   "execution_count": 13,
   "metadata": {},
   "outputs": [
    {
     "data": {
      "text/html": [
       "<div>\n",
       "<style scoped>\n",
       "    .dataframe tbody tr th:only-of-type {\n",
       "        vertical-align: middle;\n",
       "    }\n",
       "\n",
       "    .dataframe tbody tr th {\n",
       "        vertical-align: top;\n",
       "    }\n",
       "\n",
       "    .dataframe thead th {\n",
       "        text-align: right;\n",
       "    }\n",
       "</style>\n",
       "<table border=\"1\" class=\"dataframe\">\n",
       "  <thead>\n",
       "    <tr style=\"text-align: right;\">\n",
       "      <th></th>\n",
       "      <th>URI</th>\n",
       "      <th>name</th>\n",
       "      <th>text</th>\n",
       "      <th>count_words</th>\n",
       "      <th>tfidf</th>\n",
       "    </tr>\n",
       "  </thead>\n",
       "  <tbody>\n",
       "    <tr>\n",
       "      <th>0</th>\n",
       "      <td>&lt;http://dbpedia.org/resource/Digby_Morrell&gt;</td>\n",
       "      <td>Digby Morrell</td>\n",
       "      <td>digby morrell born 10 october 1979 is a former...</td>\n",
       "      <td>{'digby': 1.0, 'morrell': 5.0, 'born': 1.0, '1...</td>\n",
       "      <td>{'digby': 8.46674164792014, 'morrell': 46.3883...</td>\n",
       "    </tr>\n",
       "    <tr>\n",
       "      <th>1</th>\n",
       "      <td>&lt;http://dbpedia.org/resource/Alfred_J._Lewy&gt;</td>\n",
       "      <td>Alfred J. Lewy</td>\n",
       "      <td>alfred j lewy aka sandy lewy graduated from un...</td>\n",
       "      <td>{'alfred': 1.0, 'j': 1.0, 'lewy': 3.0, 'aka': ...</td>\n",
       "      <td>{'alfred': 4.874006054359105, 'j': 3.271318704...</td>\n",
       "    </tr>\n",
       "    <tr>\n",
       "      <th>2</th>\n",
       "      <td>&lt;http://dbpedia.org/resource/Harpdog_Brown&gt;</td>\n",
       "      <td>Harpdog Brown</td>\n",
       "      <td>harpdog brown is a singer and harmonica player...</td>\n",
       "      <td>{'harpdog': 2.0, 'brown': 2.0, 'is': 7.0, 'a':...</td>\n",
       "      <td>{'harpdog': 19.941638089392825, 'brown': 7.283...</td>\n",
       "    </tr>\n",
       "    <tr>\n",
       "      <th>3</th>\n",
       "      <td>&lt;http://dbpedia.org/resource/Franz_Rottensteiner&gt;</td>\n",
       "      <td>Franz Rottensteiner</td>\n",
       "      <td>franz rottensteiner born in waidmannsfeld lowe...</td>\n",
       "      <td>{'franz': 1.0, 'rottensteiner': 3.0, 'born': 1...</td>\n",
       "      <td>{'franz': 5.528167788206097, 'rottensteiner': ...</td>\n",
       "    </tr>\n",
       "    <tr>\n",
       "      <th>4</th>\n",
       "      <td>&lt;http://dbpedia.org/resource/G-Enka&gt;</td>\n",
       "      <td>G-Enka</td>\n",
       "      <td>henry krvits born 30 december 1974 in tallinn ...</td>\n",
       "      <td>{'henry': 1.0, 'krvits': 1.0, 'born': 1.0, '30...</td>\n",
       "      <td>{'henry': 3.9571038886536116, 'krvits': 9.5653...</td>\n",
       "    </tr>\n",
       "    <tr>\n",
       "      <th>...</th>\n",
       "      <td>...</td>\n",
       "      <td>...</td>\n",
       "      <td>...</td>\n",
       "      <td>...</td>\n",
       "      <td>...</td>\n",
       "    </tr>\n",
       "    <tr>\n",
       "      <th>42781</th>\n",
       "      <td>&lt;http://dbpedia.org/resource/Motoaki_Takenouchi&gt;</td>\n",
       "      <td>Motoaki Takenouchi</td>\n",
       "      <td>motoaki takenouchi born july 8 1967 saitama pr...</td>\n",
       "      <td>{'motoaki': 1.0, 'takenouchi': 3.0, 'born': 1....</td>\n",
       "      <td>{'motoaki': 9.970819044696412, 'takenouchi': 2...</td>\n",
       "    </tr>\n",
       "    <tr>\n",
       "      <th>42782</th>\n",
       "      <td>&lt;http://dbpedia.org/resource/Alan_Judge_(footb...</td>\n",
       "      <td>Alan Judge (footballer, born 1960)</td>\n",
       "      <td>alan graham judge born 14 may 1960 is a retire...</td>\n",
       "      <td>{'alan': 2.0, 'graham': 1.0, 'judge': 2.0, 'bo...</td>\n",
       "      <td>{'alan': 7.853998534509007, 'graham': 4.541473...</td>\n",
       "    </tr>\n",
       "    <tr>\n",
       "      <th>42783</th>\n",
       "      <td>&lt;http://dbpedia.org/resource/Eduardo_Lara&gt;</td>\n",
       "      <td>Eduardo Lara</td>\n",
       "      <td>eduardo lara lozano born 4 september 1959 in c...</td>\n",
       "      <td>{'eduardo': 1.0, 'lara': 3.0, 'lozano': 1.0, '...</td>\n",
       "      <td>{'eduardo': 5.736712540099154, 'lara': 19.9698...</td>\n",
       "    </tr>\n",
       "    <tr>\n",
       "      <th>42784</th>\n",
       "      <td>&lt;http://dbpedia.org/resource/Tatiana_Faberg%C3...</td>\n",
       "      <td>Tatiana Faberg%C3%A9</td>\n",
       "      <td>tatiana faberg is an author and faberg scholar...</td>\n",
       "      <td>{'tatiana': 2.0, 'faberg': 16.0, 'is': 4.0, 'a...</td>\n",
       "      <td>{'tatiana': 14.052760131059946, 'faberg': 141....</td>\n",
       "    </tr>\n",
       "    <tr>\n",
       "      <th>42785</th>\n",
       "      <td>&lt;http://dbpedia.org/resource/Kenneth_Thomas&gt;</td>\n",
       "      <td>Kenneth Thomas</td>\n",
       "      <td>kenneth thomas born february 24 1938 was chief...</td>\n",
       "      <td>{'kenneth': 1.0, 'thomas': 3.0, 'born': 2.0, '...</td>\n",
       "      <td>{'kenneth': 4.811763745481884, 'thomas': 9.926...</td>\n",
       "    </tr>\n",
       "  </tbody>\n",
       "</table>\n",
       "<p>42786 rows × 5 columns</p>\n",
       "</div>"
      ],
      "text/plain": [
       "                                                     URI  \\\n",
       "0            <http://dbpedia.org/resource/Digby_Morrell>   \n",
       "1           <http://dbpedia.org/resource/Alfred_J._Lewy>   \n",
       "2            <http://dbpedia.org/resource/Harpdog_Brown>   \n",
       "3      <http://dbpedia.org/resource/Franz_Rottensteiner>   \n",
       "4                   <http://dbpedia.org/resource/G-Enka>   \n",
       "...                                                  ...   \n",
       "42781   <http://dbpedia.org/resource/Motoaki_Takenouchi>   \n",
       "42782  <http://dbpedia.org/resource/Alan_Judge_(footb...   \n",
       "42783         <http://dbpedia.org/resource/Eduardo_Lara>   \n",
       "42784  <http://dbpedia.org/resource/Tatiana_Faberg%C3...   \n",
       "42785       <http://dbpedia.org/resource/Kenneth_Thomas>   \n",
       "\n",
       "                                     name  \\\n",
       "0                           Digby Morrell   \n",
       "1                          Alfred J. Lewy   \n",
       "2                           Harpdog Brown   \n",
       "3                     Franz Rottensteiner   \n",
       "4                                  G-Enka   \n",
       "...                                   ...   \n",
       "42781                  Motoaki Takenouchi   \n",
       "42782  Alan Judge (footballer, born 1960)   \n",
       "42783                        Eduardo Lara   \n",
       "42784                Tatiana Faberg%C3%A9   \n",
       "42785                      Kenneth Thomas   \n",
       "\n",
       "                                                    text  \\\n",
       "0      digby morrell born 10 october 1979 is a former...   \n",
       "1      alfred j lewy aka sandy lewy graduated from un...   \n",
       "2      harpdog brown is a singer and harmonica player...   \n",
       "3      franz rottensteiner born in waidmannsfeld lowe...   \n",
       "4      henry krvits born 30 december 1974 in tallinn ...   \n",
       "...                                                  ...   \n",
       "42781  motoaki takenouchi born july 8 1967 saitama pr...   \n",
       "42782  alan graham judge born 14 may 1960 is a retire...   \n",
       "42783  eduardo lara lozano born 4 september 1959 in c...   \n",
       "42784  tatiana faberg is an author and faberg scholar...   \n",
       "42785  kenneth thomas born february 24 1938 was chief...   \n",
       "\n",
       "                                             count_words  \\\n",
       "0      {'digby': 1.0, 'morrell': 5.0, 'born': 1.0, '1...   \n",
       "1      {'alfred': 1.0, 'j': 1.0, 'lewy': 3.0, 'aka': ...   \n",
       "2      {'harpdog': 2.0, 'brown': 2.0, 'is': 7.0, 'a':...   \n",
       "3      {'franz': 1.0, 'rottensteiner': 3.0, 'born': 1...   \n",
       "4      {'henry': 1.0, 'krvits': 1.0, 'born': 1.0, '30...   \n",
       "...                                                  ...   \n",
       "42781  {'motoaki': 1.0, 'takenouchi': 3.0, 'born': 1....   \n",
       "42782  {'alan': 2.0, 'graham': 1.0, 'judge': 2.0, 'bo...   \n",
       "42783  {'eduardo': 1.0, 'lara': 3.0, 'lozano': 1.0, '...   \n",
       "42784  {'tatiana': 2.0, 'faberg': 16.0, 'is': 4.0, 'a...   \n",
       "42785  {'kenneth': 1.0, 'thomas': 3.0, 'born': 2.0, '...   \n",
       "\n",
       "                                                   tfidf  \n",
       "0      {'digby': 8.46674164792014, 'morrell': 46.3883...  \n",
       "1      {'alfred': 4.874006054359105, 'j': 3.271318704...  \n",
       "2      {'harpdog': 19.941638089392825, 'brown': 7.283...  \n",
       "3      {'franz': 5.528167788206097, 'rottensteiner': ...  \n",
       "4      {'henry': 3.9571038886536116, 'krvits': 9.5653...  \n",
       "...                                                  ...  \n",
       "42781  {'motoaki': 9.970819044696412, 'takenouchi': 2...  \n",
       "42782  {'alan': 7.853998534509007, 'graham': 4.541473...  \n",
       "42783  {'eduardo': 5.736712540099154, 'lara': 19.9698...  \n",
       "42784  {'tatiana': 14.052760131059946, 'faberg': 141....  \n",
       "42785  {'kenneth': 4.811763745481884, 'thomas': 9.926...  \n",
       "\n",
       "[42786 rows x 5 columns]"
      ]
     },
     "execution_count": 13,
     "metadata": {},
     "output_type": "execute_result"
    }
   ],
   "source": [
    "data"
   ]
  },
  {
   "cell_type": "markdown",
   "metadata": {},
   "source": [
    "## KNN"
   ]
  },
  {
   "cell_type": "code",
   "execution_count": 14,
   "metadata": {},
   "outputs": [],
   "source": [
    "def similarity(d1,d2):\n",
    "    d3=0\n",
    "    for key,value in d1.items():\n",
    "        if key in d2.keys():\n",
    "            d3=d3+(value*d2[key])\n",
    "    return d3"
   ]
  },
  {
   "cell_type": "code",
   "execution_count": 15,
   "metadata": {},
   "outputs": [],
   "source": [
    "def similar_articles(index,n):\n",
    "    maxi=[]\n",
    "    m=\"null\"\n",
    "    for i in range(n):\n",
    "        maximum=0\n",
    "        for row in range(len(data)):\n",
    "            s = similarity(data.iloc[index,4],data.iloc[row,4])\n",
    "            if s>maximum and row!=index and data['name'][row] not in maxi:\n",
    "                maximum=s\n",
    "                m=data['name'][row]\n",
    "        maxi.append(m)\n",
    "    return maxi"
   ]
  },
  {
   "cell_type": "code",
   "execution_count": 16,
   "metadata": {},
   "outputs": [],
   "source": [
    "def result():\n",
    "    person=input(\"Enter the name of the person : \")\n",
    "    n=int(input(\"Enter the number of people you want :\"))\n",
    "    try:\n",
    "        index=data.index[data['name'] == person].tolist()\n",
    "        l=similar_articles(index[0],n)\n",
    "        print(\"\\nThe \"+str(n)+\" people who are similar to \"+person+\" are\\n\")\n",
    "        for i in range(len(l)):\n",
    "            print(str(i+1)+\" \"+l[i],end=\"\\n\")\n",
    "    except:\n",
    "        print(\"No results found\")"
   ]
  },
  {
   "cell_type": "code",
   "execution_count": 17,
   "metadata": {},
   "outputs": [
    {
     "name": "stdout",
     "output_type": "stream",
     "text": [
      "Enter the name of the person : Barack Obama\n",
      "Enter the number of people you want :8\n",
      "\n",
      "The 8 people who are similar to Barack Obama are\n",
      "\n",
      "1 Joe Biden\n",
      "2 Chris Redfern\n",
      "3 Kcho\n",
      "4 Joe Lieberman\n",
      "5 Abe Gupta\n",
      "6 M. Cherif Bassiouni\n",
      "7 Ira De Ment\n",
      "8 Pedro Nava (politician)\n"
     ]
    }
   ],
   "source": [
    "result()"
   ]
  },
  {
   "cell_type": "code",
   "execution_count": 18,
   "metadata": {},
   "outputs": [
    {
     "name": "stdout",
     "output_type": "stream",
     "text": [
      "Enter the name of the person : David Beckham\n",
      "Enter the number of people you want :5\n",
      "\n",
      "The 5 people who are similar to David Beckham are\n",
      "\n",
      "1 Akhtar Mohiuddin\n",
      "2 Kcho\n",
      "3 Johnny Culloty\n",
      "4 Gary Kelly (footballer, born 1966)\n",
      "5 Michael Owen\n"
     ]
    }
   ],
   "source": [
    "result()"
   ]
  },
  {
   "cell_type": "code",
   "execution_count": 19,
   "metadata": {},
   "outputs": [
    {
     "name": "stdout",
     "output_type": "stream",
     "text": [
      "Enter the name of the person : Elizabeth II\n",
      "Enter the number of people you want :4\n",
      "\n",
      "The 4 people who are similar to Elizabeth II are\n",
      "\n",
      "1 Chitra Visweswaran\n",
      "2 Pat Studdy-Clift\n",
      "3 Prince Philip, Duke of Edinburgh\n",
      "4 Ana Maria de Martinez\n"
     ]
    }
   ],
   "source": [
    "result()"
   ]
  },
  {
   "cell_type": "code",
   "execution_count": 20,
   "metadata": {},
   "outputs": [
    {
     "name": "stdout",
     "output_type": "stream",
     "text": [
      "Enter the name of the person : Prince Philip, Duke of Edinburgh\n",
      "Enter the number of people you want :4\n",
      "\n",
      "The 4 people who are similar to Prince Philip, Duke of Edinburgh are\n",
      "\n",
      "1 Yi Won\n",
      "2 Elizabeth II\n",
      "3 Philip Pocock\n",
      "4 Prince Nikola of Yugoslavia (b. 1958)\n"
     ]
    }
   ],
   "source": [
    "result()"
   ]
  },
  {
   "cell_type": "code",
   "execution_count": 23,
   "metadata": {},
   "outputs": [
    {
     "name": "stdout",
     "output_type": "stream",
     "text": [
      "Enter the name of the person : Narendra Modi\n",
      "Enter the number of people you want :10\n",
      "\n",
      "The 10 people who are similar to Narendra Modi are\n",
      "\n",
      "1 Annasaheb M. K. Patil\n",
      "2 Jagdish Mukhi\n",
      "3 Parsottambhai Rupala\n",
      "4 Praful Thakkar\n",
      "5 Amit Shah (mayor)\n",
      "6 Vijayendrapal Singh\n",
      "7 Rasheed Masood\n",
      "8 Raosaheb Dadarao Danve\n",
      "9 Basudeb Acharia\n",
      "10 Imran Masood\n"
     ]
    }
   ],
   "source": [
    "result()"
   ]
  },
  {
   "cell_type": "code",
   "execution_count": 27,
   "metadata": {},
   "outputs": [
    {
     "name": "stdout",
     "output_type": "stream",
     "text": [
      "Enter the name of the person : Chitra Visweswaran\n",
      "Enter the number of people you want :3\n",
      "\n",
      "The 3 people who are similar to Chitra Visweswaran are\n",
      "\n",
      "1 Sheron Wray\n",
      "2 Laura Dean\n",
      "3 Aparna Sindhoor\n"
     ]
    }
   ],
   "source": [
    "result()"
   ]
  },
  {
   "cell_type": "code",
   "execution_count": 30,
   "metadata": {},
   "outputs": [
    {
     "name": "stdout",
     "output_type": "stream",
     "text": [
      "Enter the name of the person : Mahesh Babu\n",
      "Enter the number of people you want :8\n",
      "\n",
      "The 8 people who are similar to Mahesh Babu are\n",
      "\n",
      "1 Simon Staho\n",
      "2 Ram Gopal Varma\n",
      "3 Singeetam Srinivasa Rao\n",
      "4 Nitzan Gilady\n",
      "5 Chiranjeevi\n",
      "6 Krishna (actor)\n",
      "7 Shriya Saran\n",
      "8 K. M. Madhusudhanan\n"
     ]
    }
   ],
   "source": [
    "result()"
   ]
  },
  {
   "cell_type": "code",
   "execution_count": 32,
   "metadata": {},
   "outputs": [
    {
     "name": "stdout",
     "output_type": "stream",
     "text": [
      "Enter the name of the person : Ed Sheeran\n",
      "Enter the number of people you want :4\n",
      "\n",
      "The 4 people who are similar to Ed Sheeran are\n",
      "\n",
      "1 Anthony Lun\n",
      "2 Mikill Pane\n",
      "3 Alexandra Burke\n",
      "4 Kcho\n"
     ]
    }
   ],
   "source": [
    "result()"
   ]
  },
  {
   "cell_type": "code",
   "execution_count": 35,
   "metadata": {},
   "outputs": [
    {
     "name": "stdout",
     "output_type": "stream",
     "text": [
      "Enter the name of the person : Joe Biden\n",
      "Enter the number of people you want :5\n",
      "\n",
      "The 5 people who are similar to Joe Biden are\n",
      "\n",
      "1 Jill Biden\n",
      "2 Barack Obama\n",
      "3 Cynthia Hogan\n",
      "4 Chris Coons\n",
      "5 Richard Morgan Downey\n"
     ]
    }
   ],
   "source": [
    "result()"
   ]
  },
  {
   "cell_type": "code",
   "execution_count": null,
   "metadata": {},
   "outputs": [],
   "source": []
  },
  {
   "cell_type": "code",
   "execution_count": null,
   "metadata": {},
   "outputs": [],
   "source": []
  }
 ],
 "metadata": {
  "kernelspec": {
   "display_name": "Python 3",
   "language": "python",
   "name": "python3"
  },
  "language_info": {
   "codemirror_mode": {
    "name": "ipython",
    "version": 3
   },
   "file_extension": ".py",
   "mimetype": "text/x-python",
   "name": "python",
   "nbconvert_exporter": "python",
   "pygments_lexer": "ipython3",
   "version": "3.8.2"
  }
 },
 "nbformat": 4,
 "nbformat_minor": 4
}
